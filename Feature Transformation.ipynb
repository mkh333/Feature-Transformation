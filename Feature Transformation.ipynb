{
 "cells": [
  {
   "cell_type": "code",
   "execution_count": 1,
   "id": "f2fcc98e",
   "metadata": {},
   "outputs": [],
   "source": [
    "import pandas as pd\n",
    "from pandas.core.dtypes.common import is_numeric_dtype"
   ]
  },
  {
   "cell_type": "code",
   "execution_count": 2,
   "id": "d2f57b50",
   "metadata": {},
   "outputs": [],
   "source": [
    "df = pd.read_csv('supershops.csv')"
   ]
  },
  {
   "cell_type": "code",
   "execution_count": 3,
   "id": "701aaa2d",
   "metadata": {},
   "outputs": [
    {
     "data": {
      "text/html": [
       "<div>\n",
       "<style scoped>\n",
       "    .dataframe tbody tr th:only-of-type {\n",
       "        vertical-align: middle;\n",
       "    }\n",
       "\n",
       "    .dataframe tbody tr th {\n",
       "        vertical-align: top;\n",
       "    }\n",
       "\n",
       "    .dataframe thead th {\n",
       "        text-align: right;\n",
       "    }\n",
       "</style>\n",
       "<table border=\"1\" class=\"dataframe\">\n",
       "  <thead>\n",
       "    <tr style=\"text-align: right;\">\n",
       "      <th></th>\n",
       "      <th>Marketing Spend</th>\n",
       "      <th>Administration</th>\n",
       "      <th>Transport</th>\n",
       "      <th>Area</th>\n",
       "      <th>Profit</th>\n",
       "    </tr>\n",
       "  </thead>\n",
       "  <tbody>\n",
       "    <tr>\n",
       "      <th>0</th>\n",
       "      <td>114523.61</td>\n",
       "      <td>136897.80</td>\n",
       "      <td>471784.10</td>\n",
       "      <td>Dhaka</td>\n",
       "      <td>192261.83</td>\n",
       "    </tr>\n",
       "    <tr>\n",
       "      <th>1</th>\n",
       "      <td>162597.70</td>\n",
       "      <td>151377.59</td>\n",
       "      <td>443898.53</td>\n",
       "      <td>Ctg</td>\n",
       "      <td>191792.06</td>\n",
       "    </tr>\n",
       "    <tr>\n",
       "      <th>2</th>\n",
       "      <td>153441.51</td>\n",
       "      <td>101145.55</td>\n",
       "      <td>407934.54</td>\n",
       "      <td>Rangpur</td>\n",
       "      <td>191050.39</td>\n",
       "    </tr>\n",
       "    <tr>\n",
       "      <th>3</th>\n",
       "      <td>144372.41</td>\n",
       "      <td>118671.85</td>\n",
       "      <td>383199.62</td>\n",
       "      <td>Dhaka</td>\n",
       "      <td>182901.99</td>\n",
       "    </tr>\n",
       "    <tr>\n",
       "      <th>4</th>\n",
       "      <td>142107.34</td>\n",
       "      <td>91391.77</td>\n",
       "      <td>366168.42</td>\n",
       "      <td>Rangpur</td>\n",
       "      <td>166187.94</td>\n",
       "    </tr>\n",
       "  </tbody>\n",
       "</table>\n",
       "</div>"
      ],
      "text/plain": [
       "   Marketing Spend  Administration  Transport     Area     Profit\n",
       "0        114523.61       136897.80  471784.10    Dhaka  192261.83\n",
       "1        162597.70       151377.59  443898.53      Ctg  191792.06\n",
       "2        153441.51       101145.55  407934.54  Rangpur  191050.39\n",
       "3        144372.41       118671.85  383199.62    Dhaka  182901.99\n",
       "4        142107.34        91391.77  366168.42  Rangpur  166187.94"
      ]
     },
     "execution_count": 3,
     "metadata": {},
     "output_type": "execute_result"
    }
   ],
   "source": [
    "df.head()"
   ]
  },
  {
   "cell_type": "markdown",
   "id": "2b8c68e9",
   "metadata": {},
   "source": [
    "# Nomalization"
   ]
  },
  {
   "cell_type": "code",
   "execution_count": null,
   "id": "a2b57891",
   "metadata": {},
   "outputs": [],
   "source": [
    "from sklearn.preprocessing import MinMaxScaler\n",
    "m = MinMaxScaler()"
   ]
  },
  {
   "cell_type": "code",
   "execution_count": null,
   "id": "481d53d4",
   "metadata": {},
   "outputs": [],
   "source": [
    "df[['Marketing Spend']] = m.fit_transform(df[['Marketing Spend']]) #transforming"
   ]
  },
  {
   "cell_type": "code",
   "execution_count": null,
   "id": "ddedd231",
   "metadata": {},
   "outputs": [],
   "source": [
    "df.head()"
   ]
  },
  {
   "cell_type": "code",
   "execution_count": null,
   "id": "a18ff06c",
   "metadata": {},
   "outputs": [],
   "source": [
    "df.info()"
   ]
  },
  {
   "cell_type": "code",
   "execution_count": null,
   "id": "cf510ae9",
   "metadata": {},
   "outputs": [],
   "source": [
    "x = df.drop('Profit', axis=1)\n",
    "y = df[['Profit']]"
   ]
  },
  {
   "cell_type": "code",
   "execution_count": null,
   "id": "cde26fae",
   "metadata": {},
   "outputs": [],
   "source": [
    "x1 = x.copy()\n",
    "x2 = x.copy()\n",
    "x3 = x.copy()\n",
    "x4 = x.copy()\n",
    "x5 = x.copy()\n",
    "x6 = x.copy()"
   ]
  },
  {
   "cell_type": "markdown",
   "id": "22542ddc",
   "metadata": {},
   "source": [
    "# MinMaxScalar using for loop"
   ]
  },
  {
   "cell_type": "code",
   "execution_count": null,
   "id": "37a5f70a",
   "metadata": {},
   "outputs": [],
   "source": [
    "from sklearn.preprocessing import MinMaxScaler\n",
    "m = MinMaxScaler()"
   ]
  },
  {
   "cell_type": "code",
   "execution_count": null,
   "id": "bc240260",
   "metadata": {},
   "outputs": [],
   "source": [
    "for i in x1.columns:\n",
    "    if is_numeric_dtype(x1[i]):\n",
    "        x1[[i]] = m.fit_transform(x1[[i]])\n",
    "    "
   ]
  },
  {
   "cell_type": "code",
   "execution_count": null,
   "id": "a33e1d42",
   "metadata": {},
   "outputs": [],
   "source": [
    "x1.head()"
   ]
  },
  {
   "cell_type": "markdown",
   "id": "a340a159",
   "metadata": {},
   "source": [
    "# Standard Scalar"
   ]
  },
  {
   "cell_type": "code",
   "execution_count": null,
   "id": "165fcb3a",
   "metadata": {},
   "outputs": [],
   "source": [
    "from sklearn.preprocessing import StandardScaler\n",
    "scaler = StandardScaler()"
   ]
  },
  {
   "cell_type": "code",
   "execution_count": null,
   "id": "e0d33339",
   "metadata": {},
   "outputs": [],
   "source": [
    "df[['Transport']] = scaler.fit_transform(df[['Transport']])"
   ]
  },
  {
   "cell_type": "code",
   "execution_count": null,
   "id": "df155b47",
   "metadata": {},
   "outputs": [],
   "source": [
    "df.head()"
   ]
  },
  {
   "cell_type": "markdown",
   "id": "72c21943",
   "metadata": {},
   "source": [
    "# Standard Scalar using for loop"
   ]
  },
  {
   "cell_type": "code",
   "execution_count": null,
   "id": "6ba7466d",
   "metadata": {},
   "outputs": [],
   "source": [
    "for i in x2.columns:\n",
    "    if is_numeric_dtype(x2[i]):\n",
    "        x2[[i]] = scaler.fit_transform(x2[[i]])"
   ]
  },
  {
   "cell_type": "code",
   "execution_count": null,
   "id": "e3aa7a29",
   "metadata": {},
   "outputs": [],
   "source": [
    "x2.head()"
   ]
  },
  {
   "cell_type": "markdown",
   "id": "868e2ac7",
   "metadata": {},
   "source": [
    "# MaxAbsScalar"
   ]
  },
  {
   "cell_type": "code",
   "execution_count": null,
   "id": "57dd87f3",
   "metadata": {},
   "outputs": [],
   "source": [
    "from sklearn.preprocessing import MaxAbsScaler\n",
    "transformer = MaxAbsScaler()"
   ]
  },
  {
   "cell_type": "code",
   "execution_count": null,
   "id": "5a741216",
   "metadata": {},
   "outputs": [],
   "source": [
    "df[['Administration']] = transformer.fit_transform(df[['Administration']])"
   ]
  },
  {
   "cell_type": "code",
   "execution_count": null,
   "id": "bd7b1b0f",
   "metadata": {},
   "outputs": [],
   "source": [
    "df.head()"
   ]
  },
  {
   "cell_type": "markdown",
   "id": "6f6c2ad9",
   "metadata": {},
   "source": [
    "# MaxAbsScalar using for loop"
   ]
  },
  {
   "cell_type": "code",
   "execution_count": null,
   "id": "64791f68",
   "metadata": {},
   "outputs": [],
   "source": [
    "for i in x3.columns:\n",
    "    if is_numeric_dtype(x3[i]):\n",
    "        x3[[i]] = transformer.fit_transform(x3[[i]])"
   ]
  },
  {
   "cell_type": "code",
   "execution_count": null,
   "id": "4b5d71df",
   "metadata": {},
   "outputs": [],
   "source": [
    "x3.head()"
   ]
  },
  {
   "cell_type": "markdown",
   "id": "7bf6269f",
   "metadata": {},
   "source": [
    "# RobustScalar"
   ]
  },
  {
   "cell_type": "code",
   "execution_count": null,
   "id": "1a5da84b",
   "metadata": {},
   "outputs": [],
   "source": [
    "from sklearn.preprocessing import RobustScaler\n",
    "transformer = RobustScaler()"
   ]
  },
  {
   "cell_type": "code",
   "execution_count": null,
   "id": "2bc911fc",
   "metadata": {},
   "outputs": [],
   "source": [
    "df[['Profit']] = transformer.fit_transform(df[['Profit']])"
   ]
  },
  {
   "cell_type": "code",
   "execution_count": null,
   "id": "a91be71b",
   "metadata": {},
   "outputs": [],
   "source": [
    "df.head()"
   ]
  },
  {
   "cell_type": "markdown",
   "id": "11dac205",
   "metadata": {},
   "source": [
    "# RobustScalar using for loop"
   ]
  },
  {
   "cell_type": "code",
   "execution_count": null,
   "id": "3de9905a",
   "metadata": {},
   "outputs": [],
   "source": [
    "for i in x4.columns:\n",
    "    if is_numeric_dtype(x4[i]):\n",
    "        x4[[i]] = transformer.fit_transform(x4[[i]])"
   ]
  },
  {
   "cell_type": "code",
   "execution_count": null,
   "id": "4e404a76",
   "metadata": {},
   "outputs": [],
   "source": [
    "x4.head()"
   ]
  }
 ],
 "metadata": {
  "kernelspec": {
   "display_name": "Python 3 (ipykernel)",
   "language": "python",
   "name": "python3"
  },
  "language_info": {
   "codemirror_mode": {
    "name": "ipython",
    "version": 3
   },
   "file_extension": ".py",
   "mimetype": "text/x-python",
   "name": "python",
   "nbconvert_exporter": "python",
   "pygments_lexer": "ipython3",
   "version": "3.10.0"
  }
 },
 "nbformat": 4,
 "nbformat_minor": 5
}
